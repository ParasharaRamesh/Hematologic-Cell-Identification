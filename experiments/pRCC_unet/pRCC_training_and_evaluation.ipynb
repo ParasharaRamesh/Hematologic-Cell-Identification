{
 "cells": [
  {
   "cell_type": "markdown",
   "source": [
    "# Autoreload when files change"
   ],
   "metadata": {
    "collapsed": false
   }
  },
  {
   "cell_type": "code",
   "execution_count": 1,
   "metadata": {
    "collapsed": true,
    "ExecuteTime": {
     "end_time": "2023-10-10T13:07:33.586771800Z",
     "start_time": "2023-10-10T13:07:33.553348400Z"
    }
   },
   "outputs": [],
   "source": [
    "%load_ext autoreload\n",
    "%autoreload 2"
   ]
  },
  {
   "cell_type": "markdown",
   "source": [
    "# Import required things"
   ],
   "metadata": {
    "collapsed": false
   }
  },
  {
   "cell_type": "code",
   "execution_count": 1,
   "outputs": [],
   "source": [
    "from experiments.base import *\n",
    "from experiments.pRCC_unet.module import *\n",
    "from data.pRCC import *\n",
    "from models.pRCC import *\n",
    "import os\n",
    "import config.params as config"
   ],
   "metadata": {
    "collapsed": false,
    "ExecuteTime": {
     "end_time": "2023-10-10T13:08:07.619814400Z",
     "start_time": "2023-10-10T13:08:06.062121800Z"
    }
   }
  },
  {
   "cell_type": "markdown",
   "source": [
    "# Loading the dataset"
   ],
   "metadata": {
    "collapsed": false
   }
  },
  {
   "cell_type": "code",
   "execution_count": 2,
   "outputs": [],
   "source": [
    "#assumes that there is a folder called pRCC which has another folder called pRCC_nolabel inside it!\n",
    "path = os.path.abspath(\"../../datasets/pRCC\")\n",
    "pRCC_dataset = pRCCDataset(path)"
   ],
   "metadata": {
    "collapsed": false,
    "ExecuteTime": {
     "end_time": "2023-10-10T13:08:07.784730800Z",
     "start_time": "2023-10-10T13:08:07.753329Z"
    }
   }
  },
  {
   "cell_type": "markdown",
   "source": [
    "# Creating the module object"
   ],
   "metadata": {
    "collapsed": false
   }
  },
  {
   "cell_type": "code",
   "execution_count": 3,
   "outputs": [],
   "source": [
    "name = \"pRCC_Unet_Autoencoder\"\n",
    "model = pRCCUnetAutoencoder().to(config.device)\n",
    "save_dir = os.path.abspath(f\"../../weights\")\n",
    "pRCC_module = pRCCModule(name, pRCC_dataset, model, save_dir)"
   ],
   "metadata": {
    "collapsed": false,
    "ExecuteTime": {
     "end_time": "2023-10-10T13:08:08.853669Z",
     "start_time": "2023-10-10T13:08:08.743117100Z"
    }
   }
  },
  {
   "cell_type": "markdown",
   "source": [
    "# Training the model"
   ],
   "metadata": {
    "collapsed": false
   }
  },
  {
   "cell_type": "code",
   "execution_count": 5,
   "outputs": [
    {
     "name": "stdout",
     "output_type": "stream",
     "text": [
      "Initialized scheduler\n"
     ]
    },
    {
     "data": {
      "text/plain": "Total Epochs: 0.0% |          | 0/1 [00:00<?, ?it/s]",
      "application/vnd.jupyter.widget-view+json": {
       "version_major": 2,
       "version_minor": 0,
       "model_id": "f65690af81aa46b48dbf5c66f81e9fd3"
      }
     },
     "metadata": {},
     "output_type": "display_data"
    },
    {
     "data": {
      "text/plain": "Epoch 1/1:   0%|          | 0/4 [00:00<?, ?it/s]",
      "application/vnd.jupyter.widget-view+json": {
       "version_major": 2,
       "version_minor": 0,
       "model_id": "6173074751dc461d81a78eb74cd3e197"
      }
     },
     "metadata": {},
     "output_type": "display_data"
    },
    {
     "ename": "IndexError",
     "evalue": "too many indices for array: array is 1-dimensional, but 2 were indexed",
     "output_type": "error",
     "traceback": [
      "\u001B[1;31m---------------------------------------------------------------------------\u001B[0m",
      "\u001B[1;31mIndexError\u001B[0m                                Traceback (most recent call last)",
      "Cell \u001B[1;32mIn[5], line 1\u001B[0m\n\u001B[1;32m----> 1\u001B[0m epoch_numbers, training_losses, validation_losses \u001B[38;5;241m=\u001B[39m \u001B[43mpRCC_module\u001B[49m\u001B[38;5;241;43m.\u001B[39;49m\u001B[43mtrain\u001B[49m\u001B[43m(\u001B[49m\u001B[38;5;241;43m1\u001B[39;49m\u001B[43m)\u001B[49m\n",
      "File \u001B[1;32mC:\\Parashara\\Projects\\NUS projects\\Sem1\\Projects\\Hematologic-Cell-Identification\\experiments\\base\\module.py:150\u001B[0m, in \u001B[0;36mModule.train\u001B[1;34m(self, num_epochs, resume_epoch_num, load_from_checkpoint, epoch_saver_count, rest_epoch_count)\u001B[0m\n\u001B[0;32m    147\u001B[0m avg_train_stats \u001B[38;5;241m=\u001B[39m \u001B[38;5;28mself\u001B[39m\u001B[38;5;241m.\u001B[39mcalculate_avg_train_stats_hook(epoch_training_loss)\n\u001B[0;32m    149\u001B[0m \u001B[38;5;66;03m# calculate validation statistics\u001B[39;00m\n\u001B[1;32m--> 150\u001B[0m avg_val_stats \u001B[38;5;241m=\u001B[39m \u001B[38;5;28;43mself\u001B[39;49m\u001B[38;5;241;43m.\u001B[39;49m\u001B[43mvalidation_hook\u001B[49m\u001B[43m(\u001B[49m\u001B[43m)\u001B[49m\n\u001B[0;32m    152\u001B[0m \u001B[38;5;66;03m# Store running history\u001B[39;00m\n\u001B[0;32m    153\u001B[0m \u001B[38;5;28mself\u001B[39m\u001B[38;5;241m.\u001B[39mstore_running_history_hook(epoch, avg_train_stats, avg_val_stats)\n",
      "File \u001B[1;32mC:\\Parashara\\Projects\\NUS projects\\Sem1\\Projects\\Hematologic-Cell-Identification\\experiments\\pRCC_unet\\module.py:95\u001B[0m, in \u001B[0;36mpRCCModule.validation_hook\u001B[1;34m(self)\u001B[0m\n\u001B[0;32m     92\u001B[0m avg_val_loss_for_epoch \u001B[38;5;241m=\u001B[39m val_loss \u001B[38;5;241m/\u001B[39m \u001B[38;5;28mlen\u001B[39m(\u001B[38;5;28mself\u001B[39m\u001B[38;5;241m.\u001B[39mval_loader)\n\u001B[0;32m     94\u001B[0m \u001B[38;5;66;03m# show some sample predictions\u001B[39;00m\n\u001B[1;32m---> 95\u001B[0m \u001B[38;5;28;43mself\u001B[39;49m\u001B[38;5;241;43m.\u001B[39;49m\u001B[43mshow_sample_reconstructions\u001B[49m\u001B[43m(\u001B[49m\u001B[38;5;28;43mself\u001B[39;49m\u001B[38;5;241;43m.\u001B[39;49m\u001B[43mval_loader\u001B[49m\u001B[43m)\u001B[49m\n\u001B[0;32m     97\u001B[0m \u001B[38;5;28;01mreturn\u001B[39;00m {\n\u001B[0;32m     98\u001B[0m     \u001B[38;5;124m\"\u001B[39m\u001B[38;5;124mavg_val_loss_for_epoch\u001B[39m\u001B[38;5;124m\"\u001B[39m: avg_val_loss_for_epoch\n\u001B[0;32m     99\u001B[0m }\n",
      "File \u001B[1;32mC:\\Parashara\\Projects\\NUS projects\\Sem1\\Projects\\Hematologic-Cell-Identification\\experiments\\pRCC_unet\\module.py:192\u001B[0m, in \u001B[0;36mpRCCModule.show_sample_reconstructions\u001B[1;34m(self, dataloader, num_samples)\u001B[0m\n\u001B[0;32m    189\u001B[0m predicted_image \u001B[38;5;241m=\u001B[39m predicted_image\u001B[38;5;241m.\u001B[39mpermute(\u001B[38;5;241m1\u001B[39m, \u001B[38;5;241m2\u001B[39m, \u001B[38;5;241m0\u001B[39m)\u001B[38;5;241m.\u001B[39mnumpy()\u001B[38;5;241m.\u001B[39mastype(np\u001B[38;5;241m.\u001B[39muint8)\n\u001B[0;32m    190\u001B[0m sample_image \u001B[38;5;241m=\u001B[39m sample_image\u001B[38;5;241m.\u001B[39mpermute(\u001B[38;5;241m1\u001B[39m, \u001B[38;5;241m2\u001B[39m, \u001B[38;5;241m0\u001B[39m)\u001B[38;5;241m.\u001B[39mnumpy()\u001B[38;5;241m.\u001B[39mastype(np\u001B[38;5;241m.\u001B[39muint8)\n\u001B[1;32m--> 192\u001B[0m \u001B[43maxes\u001B[49m\u001B[43m[\u001B[49m\u001B[43mi\u001B[49m\u001B[43m,\u001B[49m\u001B[43m \u001B[49m\u001B[38;5;241;43m0\u001B[39;49m\u001B[43m]\u001B[49m\u001B[38;5;241m.\u001B[39mimshow(sample_image)\n\u001B[0;32m    193\u001B[0m axes[i, \u001B[38;5;241m0\u001B[39m]\u001B[38;5;241m.\u001B[39mset_title(\u001B[38;5;124mf\u001B[39m\u001B[38;5;124m\"\u001B[39m\u001B[38;5;124mOriginal Image #\u001B[39m\u001B[38;5;132;01m{\u001B[39;00mi\u001B[38;5;250m \u001B[39m\u001B[38;5;241m+\u001B[39m\u001B[38;5;250m \u001B[39m\u001B[38;5;241m1\u001B[39m\u001B[38;5;132;01m}\u001B[39;00m\u001B[38;5;124m\"\u001B[39m, color\u001B[38;5;241m=\u001B[39m\u001B[38;5;124m'\u001B[39m\u001B[38;5;124mgreen\u001B[39m\u001B[38;5;124m'\u001B[39m)\n\u001B[0;32m    194\u001B[0m axes[i, \u001B[38;5;241m0\u001B[39m]\u001B[38;5;241m.\u001B[39maxis(\u001B[38;5;124m'\u001B[39m\u001B[38;5;124moff\u001B[39m\u001B[38;5;124m'\u001B[39m)\n",
      "\u001B[1;31mIndexError\u001B[0m: too many indices for array: array is 1-dimensional, but 2 were indexed"
     ]
    },
    {
     "data": {
      "text/plain": "<Figure size 900x900 with 2 Axes>",
      "image/png": "[encoded data removed]"
     },
     "metadata": {},
     "output_type": "display_data"
    }
   ],
   "source": [
    "epoch_numbers, training_losses, validation_losses = pRCC_module.train(1)"
   ],
   "metadata": {
    "collapsed": false
   }
  },
  {
   "cell_type": "code",
   "execution_count": null,
   "outputs": [],
   "source": [],
   "metadata": {
    "collapsed": false
   }
  }
 ],
 "metadata": {
  "kernelspec": {
   "display_name": "Python 3",
   "language": "python",
   "name": "python3"
  },
  "language_info": {
   "codemirror_mode": {
    "name": "ipython",
    "version": 2
   },
   "file_extension": ".py",
   "mimetype": "text/x-python",
   "name": "python",
   "nbconvert_exporter": "python",
   "pygments_lexer": "ipython2",
   "version": "2.7.6"
  }
 },
 "nbformat": 4,
 "nbformat_minor": 0
}
