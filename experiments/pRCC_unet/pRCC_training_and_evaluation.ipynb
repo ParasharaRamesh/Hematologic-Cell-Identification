{
 "cells": [
  {
   "cell_type": "markdown",
   "source": [
    "# Autoreload when files change"
   ],
   "metadata": {
    "collapsed": false
   }
  },
  {
   "cell_type": "code",
   "execution_count": 2,
   "metadata": {
    "collapsed": true,
    "ExecuteTime": {
     "end_time": "2023-10-10T11:02:50.280833700Z",
     "start_time": "2023-10-10T11:02:50.249429400Z"
    }
   },
   "outputs": [],
   "source": [
    "%load_ext autoreload\n",
    "%autoreload 2"
   ]
  },
  {
   "cell_type": "markdown",
   "source": [
    "# Import required things"
   ],
   "metadata": {
    "collapsed": false
   }
  },
  {
   "cell_type": "code",
   "execution_count": 3,
   "outputs": [],
   "source": [
    "from experiments.base import *\n",
    "from experiments.pRCC_unet.module import *\n",
    "from data.pRCC import *\n",
    "from models.pRCC import *\n",
    "import os"
   ],
   "metadata": {
    "collapsed": false,
    "ExecuteTime": {
     "end_time": "2023-10-10T11:02:52.742840200Z",
     "start_time": "2023-10-10T11:02:50.864448600Z"
    }
   }
  },
  {
   "cell_type": "markdown",
   "source": [
    "# Loading the dataset"
   ],
   "metadata": {
    "collapsed": false
   }
  },
  {
   "cell_type": "code",
   "execution_count": 4,
   "outputs": [],
   "source": [
    "#assumes that there is a folder called pRCC which has another folder called pRCC_nolabel inside it!\n",
    "path = os.path.abspath(\"../../datasets/pRCC\")\n",
    "pRCC_dataset = pRCCDataset(path)"
   ],
   "metadata": {
    "collapsed": false,
    "ExecuteTime": {
     "end_time": "2023-10-10T11:02:52.866844600Z",
     "start_time": "2023-10-10T11:02:52.743343200Z"
    }
   }
  },
  {
   "cell_type": "markdown",
   "source": [
    "# Creating the module object"
   ],
   "metadata": {
    "collapsed": false
   }
  },
  {
   "cell_type": "code",
   "execution_count": 6,
   "outputs": [],
   "source": [
    "name = \"pRCC_Unet_Autoencoder\"\n",
    "model = pRCCUnetAutoencoder()\n",
    "save_dir = os.path.abspath(f\"../../weights\")\n",
    "pRCC_module = pRCCModule(name, pRCC_dataset, model, save_dir)"
   ],
   "metadata": {
    "collapsed": false
   }
  },
  {
   "cell_type": "markdown",
   "source": [
    "# Training the model"
   ],
   "metadata": {
    "collapsed": false
   }
  },
  {
   "cell_type": "code",
   "execution_count": null,
   "outputs": [
    {
     "name": "stdout",
     "output_type": "stream",
     "text": [
      "Initialized scheduler\n"
     ]
    },
    {
     "data": {
      "text/plain": "Total Epochs: 0.0% |          | 0/1 [00:00<?, ?it/s]",
      "application/vnd.jupyter.widget-view+json": {
       "version_major": 2,
       "version_minor": 0,
       "model_id": "cdbbdaad022c435c9ebc054653177d77"
      }
     },
     "metadata": {},
     "output_type": "display_data"
    },
    {
     "data": {
      "text/plain": "Epoch 1/1:   0%|          | 0/2271 [00:00<?, ?it/s]",
      "application/vnd.jupyter.widget-view+json": {
       "version_major": 2,
       "version_minor": 0,
       "model_id": "983a25483abd4a4c82ce2bf708a8d993"
      }
     },
     "metadata": {},
     "output_type": "display_data"
    }
   ],
   "source": [
    "epoch_numbers, training_losses, validation_losses = pRCC_module.train(1)"
   ],
   "metadata": {
    "collapsed": false,
    "is_executing": true
   }
  },
  {
   "cell_type": "code",
   "execution_count": null,
   "outputs": [],
   "source": [],
   "metadata": {
    "collapsed": false
   }
  }
 ],
 "metadata": {
  "kernelspec": {
   "display_name": "Python 3",
   "language": "python",
   "name": "python3"
  },
  "language_info": {
   "codemirror_mode": {
    "name": "ipython",
    "version": 2
   },
   "file_extension": ".py",
   "mimetype": "text/x-python",
   "name": "python",
   "nbconvert_exporter": "python",
   "pygments_lexer": "ipython2",
   "version": "2.7.6"
  }
 },
 "nbformat": 4,
 "nbformat_minor": 0
}
